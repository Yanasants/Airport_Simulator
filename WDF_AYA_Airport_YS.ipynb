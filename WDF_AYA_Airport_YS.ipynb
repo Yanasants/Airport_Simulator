{
  "cells": [
    {
      "cell_type": "markdown",
      "metadata": {
        "id": "xyrjZkaUy2Nk"
      },
      "source": [
        "# AYA Airport"
      ]
    },
    {
      "cell_type": "markdown",
      "metadata": {
        "id": "0QybL2VV88PG"
      },
      "source": [
        "### Import"
      ]
    },
    {
      "cell_type": "code",
      "execution_count": null,
      "metadata": {
        "id": "0yLJNnxL8-Mt"
      },
      "outputs": [],
      "source": [
        "from random import choice, randint\n",
        "import pandas as pd\n",
        "from time import sleep\n",
        "import datetime\n",
        "import matplotlib.pyplot as plt\n",
        "from skimage.io import imread, imshow\n",
        "from google.colab import output"
      ]
    },
    {
      "cell_type": "markdown",
      "metadata": {
        "id": "qwfiXSL10P43"
      },
      "source": [
        "### Global variables"
      ]
    },
    {
      "cell_type": "code",
      "execution_count": null,
      "metadata": {
        "id": "6lT8DdLBwtMM"
      },
      "outputs": [],
      "source": [
        "global dict_floor_queues #waiting queues to enter the runways\n",
        "dict_floor_queues = {'queue_1':{}, 'queue_2':{}, 'queue_3':{}}\n",
        "\n",
        "global dict_sky_queues #waiting queues to enter the runways\n",
        "dict_sky_queues = {'queue_1':{}, 'queue_2':{}}\n",
        "\n",
        "global dict_runways #airplane runways\n",
        "dict_runways = {'runway_1':{}, 'runway_2':{}, 'runway_3':{}}\n",
        "\n",
        "global dict_available_spaces\n",
        "dict_available_spaces = {0:3,1:2,2:1,3:0} #parameterizing queues availability \n",
        "\n",
        "global dict_runway_to_queue #relating queues to runways\n",
        "dict_runway_to_queue = {'runway_1':'queue_1','runway_2':'queue_2','runway_3':'queue_3'}\n",
        "\n",
        "global dict_queue_to_runway #relating runways to queues\n",
        "dict_queue_to_runway = {'queue_1':'runway_1','queue_2':'runway_2','queue_3':'runway_3'}\n",
        "\n",
        "\n",
        "global global_dict_crashed_airplanes\n",
        "global_dict_crashed_airplanes = {}\n",
        "global_dict_crashed_airplanes['CURRENT TIME'] = {}\n",
        "\n",
        "global airplane_crash #number of airplanes crashing\n",
        "airplane_crash = 0\n",
        "\n",
        "global emergency_landings #number of emergency landings\n",
        "emergency_landings = 0\n"
      ]
    },
    {
      "cell_type": "markdown",
      "source": [
        "### Functions"
      ],
      "metadata": {
        "id": "gL3MwOrdD9qe"
      }
    },
    {
      "cell_type": "markdown",
      "metadata": {
        "id": "F7WwDtvz0Tbf"
      },
      "source": [
        "#### Function ***create_airplanes_floor***"
      ]
    },
    {
      "cell_type": "code",
      "source": [
        "def create_airplanes_floor(dict_floor_queues, dict_available_spaces): #creating airplanes to floor queues\n",
        "  '''\n",
        "  if the airplane is already on queue, and new ones are added, it means that in a round it doesn't move.\n",
        "  So there's added one more unit of time to the airplane. \n",
        "  '''\n",
        "  for queue in dict_floor_queues:\n",
        "    for airplane in dict_floor_queues[queue]:\n",
        "      dict_floor_queues[queue][airplane]['Time To Take Off'] += 1\n",
        "\n",
        "  #Queues must be consulted\n",
        "  for queue in dict_floor_queues:\n",
        "    airplanes_on_queue = len(dict_floor_queues[queue])\n",
        "    available_queues_spaces = dict_available_spaces[airplanes_on_queue]\n",
        "\n",
        "    #TO ID\n",
        "    letters = 'ABCDEFGIJKLMNOPQSTUVWXYZ'\n",
        "    numbers = '123456789'\n",
        "\n",
        "    #the random number of airplanes must be between zero and the maximum of spaces available on the queues\n",
        "    number_of_airplanes = randint(0,available_queues_spaces) \n",
        "    for i in range(number_of_airplanes):\n",
        "      ID = [choice(letters) for x in range(3)] + [choice(numbers) for x in range(3)] \n",
        "      ID = ''.join(ID)\n",
        "\n",
        "      while (ID in dict_floor_queues[queue]):\n",
        "        ID = [choice(letters) for x in range(3)] + [choice(numbers) for x in range(3)] \n",
        "        ID = ''.join(ID)\n",
        "\n",
        "      time_to_take_off = 0\n",
        "      airplane_fuel = randint(2,20)\n",
        "      dict_airplane = {'Time To Take Off':time_to_take_off, 'Fuel':airplane_fuel}\n",
        "      dict_floor_queues[queue][ID] = dict_airplane\n",
        "\n",
        "  return dict_floor_queues"
      ],
      "metadata": {
        "id": "2e1D0i2qCnEb"
      },
      "execution_count": null,
      "outputs": []
    },
    {
      "cell_type": "markdown",
      "source": [
        "#### Function ***enter_runway***"
      ],
      "metadata": {
        "id": "KddtfS4Pl1Ek"
      }
    },
    {
      "cell_type": "code",
      "execution_count": null,
      "metadata": {
        "id": "X2ylmqEhC57H"
      },
      "outputs": [],
      "source": [
        "def enter_runway(dict_runways, dict_floor_queues, dict_runway_to_queue, dict_available_spaces):\n",
        "  '''\n",
        "  if the airplane is already on runway, and new ones are added, it means that in a round the airplane doesn't move.\n",
        "  So there's added one more unit of time to the airplane. \n",
        "  '''\n",
        "  #mean_time = []\n",
        "  for runway in dict_runways:\n",
        "    for airplane in dict_runways[runway]:\n",
        "      dict_runways[runway][airplane]['Time To Take Off'] += 1\n",
        "      #mean_time.append( dict_runways[runway][airplane]['Time To Take Off'])\n",
        "\n",
        "  #Runways must be consulted\n",
        "  list_airplanes_out_of_runway = []\n",
        "  for runway in dict_runways:\n",
        "    list_airplanes_in_queues = list(dict_floor_queues[dict_runway_to_queue[runway]].keys())\n",
        "    airplanes_on_runway = len(dict_runways[runway])\n",
        "    available_runways_spaces = dict_available_spaces[airplanes_on_runway]\n",
        "\n",
        "\n",
        "    for ID in dict_floor_queues[dict_runway_to_queue[runway]]:\n",
        "      #Adding new airplanes while there's still spaces available on runways\n",
        "        if (available_runways_spaces > 0):\n",
        "          airplane_to_runway = list_airplanes_in_queues[0]\n",
        "          list_airplanes_out_of_runway.append(airplane_to_runway)\n",
        "          dict_runways[runway][ID]= dict_floor_queues[dict_runway_to_queue[runway]][ID]\n",
        "          list_airplanes_in_queues.remove(airplane_to_runway)\n",
        "          available_runways_spaces -= 1\n",
        "  \n",
        "  '''\n",
        "  Once the airplane is added to the runways, it must be removed from the floor queues.\n",
        "  '''\n",
        "  for runway in dict_runways:\n",
        "    for airplane in list_airplanes_out_of_runway:\n",
        "      if (airplane in dict_floor_queues[dict_runway_to_queue[runway]]):\n",
        "        dict_floor_queues[dict_runway_to_queue[runway]].pop(airplane)\n",
        "\n",
        "  return dict_runways"
      ]
    },
    {
      "cell_type": "markdown",
      "source": [
        "#### Function ***takeoff***"
      ],
      "metadata": {
        "id": "Dy7aH5SlmJWD"
      }
    },
    {
      "cell_type": "code",
      "execution_count": null,
      "metadata": {
        "id": "kOq7AV-NeJ96"
      },
      "outputs": [],
      "source": [
        "def takeoff(dict_runways, dict_runway_to_queue):\n",
        "    '''\n",
        "    for each round, the first airplane to enter in respective runway is gonna be the one that flies.\n",
        "    '''\n",
        "    dict_airplanes_to_take_off = {'runway_1':{}, 'runway_2':{}, 'runway_3':{}} \n",
        "    list_airplanes_take_off = []\n",
        "\n",
        "    #Checking runways\n",
        "    for runway in dict_runways:\n",
        "        list_airplanes_in_runway = list(dict_runways[runway].keys())\n",
        "        if (len(list_airplanes_in_runway)!=0):\n",
        "            airplane_to_take_off =  list_airplanes_in_runway[0]\n",
        "            list_airplanes_take_off.append(airplane_to_take_off)\n",
        "            dict_airplanes_to_take_off[runway][airplane_to_take_off] = dict_runways[runway][airplane_to_take_off]\n",
        "\n",
        "    \n",
        "    #Once the airplane took off, it must be removed from the runway.\n",
        "    for runway in dict_runways:\n",
        "      for airplane in list_airplanes_take_off:\n",
        "        if (airplane in dict_runways[runway]):\n",
        "          dict_runways[runway].pop(airplane)\n",
        "    return dict_airplanes_to_take_off"
      ]
    },
    {
      "cell_type": "markdown",
      "source": [
        "#### Function ***create_airplanes_sky***"
      ],
      "metadata": {
        "id": "A8Z-JsZdLv5P"
      }
    },
    {
      "cell_type": "code",
      "source": [
        "def create_airplanes_sky(dict_sky_queues, dict_available_spaces):\n",
        "    '''\n",
        "    Once the airplane is already on the queue and new airplanes are added, it means\n",
        "    that in a round the airplane doesn't move \n",
        "    '''\n",
        "    for queue in dict_sky_queues:\n",
        "      for airplane in dict_sky_queues[queue]:\n",
        "        dict_sky_queues[queue][airplane]['Time To Land'] += 1\n",
        "        dict_sky_queues[queue][airplane]['Fuel'] -= 1\n",
        "  \n",
        "  #Queues must be consulted\n",
        "    for queue in dict_sky_queues:\n",
        "        airplanes_on_queue = len(dict_sky_queues[queue])\n",
        "        available_queues_spaces = dict_available_spaces[airplanes_on_queue]\n",
        "\n",
        "        #TO ID\n",
        "        letters = 'ABCDEFGIJKLMNOPQSTUVWXYZ'\n",
        "        numbers = '123456789'\n",
        "        \n",
        "        number_of_airplanes = randint(0,available_queues_spaces)\n",
        "        for i in range(number_of_airplanes): \n",
        "          ID = [choice(letters) for x in range(3)] + [choice(numbers) for x in range(3)] \n",
        "          ID = ''.join(ID)\n",
        "\n",
        "          while (ID in dict_sky_queues[queue]):\n",
        "              ID = [choice(letters) for x in range(3)] + [choice(numbers) for x in range(3)] \n",
        "              ID = ''.join(ID)\n",
        "\n",
        "          time_to_land = 0\n",
        "          airplane_fuel = randint(2,20)\n",
        "          dict_airplane = {'Time To Land':time_to_land, 'Fuel':airplane_fuel}\n",
        "          dict_sky_queues[queue][ID] = dict_airplane\n",
        "    return dict_sky_queues"
      ],
      "metadata": {
        "id": "DmXfDtHCDI97"
      },
      "execution_count": null,
      "outputs": []
    },
    {
      "cell_type": "markdown",
      "source": [
        "#### Function ***landing***"
      ],
      "metadata": {
        "id": "uQYZQqIDWo0G"
      }
    },
    {
      "cell_type": "code",
      "source": [
        "def landing(dict_runways, dict_sky_queues, dict_runway_to_queue, dict_queue_to_runway, emergency_landings, airplane_crash):\n",
        "    dict_airplanes_normal_landings = {'runway_1':{}, 'runway_2':{}, 'runway_3':{}}\n",
        "    dict_airplanes_on_emergency_landings = {'runway_1':{}, 'runway_2':{}, 'runway_3':{}}\n",
        "    dict_crashed_airplanes = {'queue_1':{}, 'queue_2':{}, 'queue_3':{}}\n",
        "    list_queues = [queue for queue in dict_sky_queues]\n",
        "    for queue in dict_sky_queues:\n",
        "        for airplane in dict_sky_queues[queue]:\n",
        "          if(dict_sky_queues[queue][airplane]['Fuel']==1):\n",
        "            verify_airplane = True\n",
        "            i = 0\n",
        "            while verify_airplane == True:\n",
        "                if (i<2):\n",
        "                  if (len(dict_airplanes_on_emergency_landings[dict_queue_to_runway[list_queues[i]]].keys())==0):\n",
        "                    dict_airplanes_on_emergency_landings[dict_queue_to_runway[list_queues[i]]][airplane] = dict_sky_queues[queue][airplane]\n",
        "                    emergency_landings += 1\n",
        "                    verify_airplane = False\n",
        "                  else:\n",
        "                    i += 1\n",
        "                elif (i==2):\n",
        "                  if (len(dict_airplanes_on_emergency_landings['runway_3'].keys())==0):\n",
        "                    dict_airplanes_on_emergency_landings['runway_3'][airplane] = dict_sky_queues[queue][airplane]\n",
        "                    verify_airplane = False\n",
        "                  else:\n",
        "                    airplane_crash += 1\n",
        "                    dict_crashed_airplanes[queue][airplane] = dict_sky_queues[queue][airplane]\n",
        "                    verify_airplane = False\n",
        "              \n",
        "          else:\n",
        "            if (len(dict_airplanes_normal_landings[dict_queue_to_runway[queue]].keys())==0):\n",
        "              dict_airplanes_normal_landings[dict_queue_to_runway[queue]][airplane] = dict_sky_queues[queue][airplane]\n",
        "\n",
        "    #removing crashed airplanes from sky queues \n",
        "    for queue in dict_crashed_airplanes:\n",
        "      for airplane in dict_crashed_airplanes[queue]:\n",
        "          if (airplane in dict_sky_queues[queue]):\n",
        "            dict_sky_queues[queue].pop(airplane)\n",
        "\n",
        "    #removing airplanes on emergency landings from sky queues \n",
        "    for runway in dict_airplanes_on_emergency_landings:\n",
        "      for airplane in dict_airplanes_on_emergency_landings[runway]:\n",
        "        for queue in dict_sky_queues:\n",
        "          if (airplane in dict_sky_queues[queue]):\n",
        "            dict_sky_queues[queue].pop(airplane)\n",
        "\n",
        "    #removing airplanes on normal landings from sky queues \n",
        "    for runway in dict_airplanes_normal_landings:\n",
        "      for airplane in dict_airplanes_normal_landings[runway]:\n",
        "        for queue in dict_sky_queues:\n",
        "          if (airplane in dict_sky_queues[queue]):\n",
        "            dict_sky_queues[queue].pop(airplane)\n",
        "        \n",
        "    return dict_crashed_airplanes, dict_airplanes_on_emergency_landings, dict_airplanes_normal_landings"
      ],
      "metadata": {
        "id": "aEZ8WVO5DdWL"
      },
      "execution_count": null,
      "outputs": []
    },
    {
      "cell_type": "markdown",
      "source": [
        "#### Function ***format_line_name***"
      ],
      "metadata": {
        "id": "IVpFtOTLOVHR"
      }
    },
    {
      "cell_type": "code",
      "source": [
        "def format_line_name(line_name:str):\n",
        "  name = line_name.split('_')[0].title()\n",
        "  number = line_name.split('_')[1]\n",
        "\n",
        "  output = [name, ' ',number]\n",
        "\n",
        "  return ''.join(output)"
      ],
      "metadata": {
        "id": "6PESVXUUOYhd"
      },
      "execution_count": null,
      "outputs": []
    },
    {
      "cell_type": "markdown",
      "source": [
        "#### Function ***df_to_print***"
      ],
      "metadata": {
        "id": "havwyPECOanw"
      }
    },
    {
      "cell_type": "code",
      "source": [
        "def df_to_print(dictionary: dict,round:int):\n",
        "  rounds = []\n",
        "  lines = []\n",
        "  airplanes = []\n",
        "  times = []\n",
        "  fuels = []\n",
        "  for line in dictionary:\n",
        "    for airplane in dictionary[line]:\n",
        "      rounds.append(round)\n",
        "      line_name = format_line_name(line)\n",
        "      lines.append(line_name)\n",
        "      airplanes.append(airplane)\n",
        "      fuel = dictionary[line][airplane]['Fuel']\n",
        "      fuels.append(fuel)\n",
        "      if ('runway_1' in dictionary):\n",
        "        if ('Time To Take Off' in dictionary[line][airplane].keys()):\n",
        "          time = dictionary[line][airplane]['Time To Take Off']\n",
        "          times.append(time)\n",
        "        else:\n",
        "           time = dictionary[line][airplane]['Time To Land']\n",
        "           times.append(time) \n",
        "      else: \n",
        "        if ('Time To Take Off' in dictionary[line][airplane].keys()):\n",
        "          time = dictionary[line][airplane]['Time To Take Off']\n",
        "          times.append(time)\n",
        "        else:\n",
        "           time = dictionary[line][airplane]['Time To Land']\n",
        "           times.append(time)\n",
        "  if (len(times) != 0):\n",
        "    mean_time = sum(times)/len(times)\n",
        "  else:\n",
        "    mean_time = 'No airplanes.'\n",
        "    \n",
        "  df = pd.DataFrame()\n",
        "  df= df.assign(ROUND=rounds).assign(AIRPLANE=airplanes).assign(LINE=lines).assign(TIME=times).assign(FUEL=fuels)\n",
        "\n",
        "  return df, mean_time"
      ],
      "metadata": {
        "id": "fCgLEEXgOf1H"
      },
      "execution_count": null,
      "outputs": []
    },
    {
      "cell_type": "markdown",
      "source": [
        "#### Function ***output_generator***"
      ],
      "metadata": {
        "id": "jVvrIqAyYLHW"
      }
    },
    {
      "cell_type": "code",
      "source": [
        "\n",
        "def output_generator(final_output_json, key, dict_name, dictionary, all_df, round_of_execution):\n",
        "  #exhibition of the dataframe \n",
        "  df, mean_time = df_to_print(dictionary, round_of_execution)\n",
        "  N_SPACES = 5\n",
        "  #head = '\\n'+'--'*N_SPACES + ' '+ dict_name + ' '+'--'*N_SPACES\n",
        "  print('\\n')\n",
        "  # print(head)\n",
        "  # print('\\n')\n",
        "  if (len(df.index)!=0):\n",
        "    print(df)\n",
        "    print(f'\\nMEAN TIME: {round(mean_time,2)} unities of time')\n",
        "  else:\n",
        "    print('')\n",
        "  all_df.append(pd.DataFrame([{'AIRPLANE': dict_name}]))\n",
        "  all_df.append(df)\n",
        "  final_output_json[key][dict_name] = dictionary\n"
      ],
      "metadata": {
        "id": "AZGjpqC1uyXz"
      },
      "execution_count": null,
      "outputs": []
    },
    {
      "cell_type": "markdown",
      "source": [
        "#### Function ***open_images***"
      ],
      "metadata": {
        "id": "nJ5veurykHSw"
      }
    },
    {
      "cell_type": "code",
      "source": [
        "def open_image(dict_name, dictionary, list_imgs, show_image):\n",
        "  if (show_image == True):\n",
        "    name_to_display = {'FLOOR QUEUES':' FLOOR QUEUE', 'RUNWAYS': 'RUNWAY', 'TAKING OFF':'TAKING OFF', 'SKY QUEUES':'SKY QUEUE',\\\n",
        "                      'CRASHED AIRPLANES':'CRASHED AIRPLANE', 'EMERGENCY LANDINGS':'EMERGENCY LANDING', 'LANDINGS':'LANDING'}\n",
        "    print('\\n')\n",
        "    print('**'*5 + ' ' +dict_name.upper()+ ' '+ '**'*5)\n",
        "    print('\\n')\n",
        "    spaces = 10-len(name_to_display[dict_name])\n",
        "    # head = ' '*2 + f'{name_to_display[dict_name]} 1' + ' '*spaces + f'{name_to_display[dict_name]} 2' + ' '*spaces + f'{name_to_display[dict_name]} 3'\n",
        "    # print(head.center(25))\n",
        "    #print('\\n')\n",
        "    plt.figure(figsize=(4.5, 4.5))\n",
        "    i = 0\n",
        "    for line in dictionary: \n",
        "      number_of_airplanes = len(dictionary[line])\n",
        "      img = list_imgs[number_of_airplanes]\n",
        "      plt.subplot(3, 3, i+1)\n",
        "      plt.imshow(img)\n",
        "      plt.axis('off')\n",
        "      i += 1\n",
        "\n",
        "      plt.tight_layout()\n",
        "    return plt.show()"
      ],
      "metadata": {
        "id": "alNplLqrkOTB"
      },
      "execution_count": null,
      "outputs": []
    },
    {
      "cell_type": "markdown",
      "source": [
        "#### Function ***save_imgs***"
      ],
      "metadata": {
        "id": "sItZ2M6nlRp6"
      }
    },
    {
      "cell_type": "markdown",
      "source": [
        "##### The images are available [here](https://drive.google.com/drive/folders/1-yCwRfoWWo9Cpwg6Aev2A4uNjaU09cd7?usp=sharing)\n",
        "\n"
      ],
      "metadata": {
        "id": "es3RpunDH6Sx"
      }
    },
    {
      "cell_type": "code",
      "source": [
        "def save_imgs(list_imgs, number_of_imgs, names_imgs):\n",
        "  for i in range(number_of_imgs):\n",
        "    img = imread(f'{names_imgs}_{i}.png')\n",
        "    list_imgs.append(img)"
      ],
      "metadata": {
        "id": "UF4GUuomn7LZ"
      },
      "execution_count": null,
      "outputs": []
    },
    {
      "cell_type": "code",
      "source": [
        "runways_imgs =[]\n",
        "queues_imgs =[]\n",
        "taking_off_imgs = []\n",
        "crashed_airplanes_imgs = []\n",
        "emergency_landings_imgs = []\n",
        "landings_imgs = []\n",
        "\n",
        "save_imgs(runways_imgs, 4, 'runway')\n",
        "save_imgs(queues_imgs, 4, 'queue')\n",
        "save_imgs(taking_off_imgs, 2, 'taking_off')\n",
        "save_imgs(crashed_airplanes_imgs, 2, 'crashed_airplane')\n",
        "save_imgs(emergency_landings_imgs, 2, 'emergency_landing')\n",
        "save_imgs(landings_imgs, 2, 'landing')"
      ],
      "metadata": {
        "id": "UFcvfJ60lRGH"
      },
      "execution_count": null,
      "outputs": []
    },
    {
      "cell_type": "markdown",
      "source": [
        "### Main"
      ],
      "metadata": {
        "id": "vLTDk7FBd_Wx"
      }
    },
    {
      "cell_type": "code",
      "source": [
        "print('Welcome to AYA Airport!\\n')\n",
        "\n",
        "all_dicts_names = ['FLOOR QUEUES', 'RUNWAYS','TAKING OFF', 'SKY QUEUES','CRASHED AIRPLANES', 'EMERGENCY LANDINGS', 'LANDINGS']\n",
        "moment_of_execution = str(datetime.datetime.now())\n",
        "final_output_json = {'CURRENT TIME': {}}\n",
        "all_df = []\n",
        "show_image = True\n",
        "save_outputs = False\n",
        "SLEEP_TIME = 3\n",
        "NUMBER_OF_ROUNDS = 10\n",
        "\n",
        "\n",
        "for round_of_execution in range(NUMBER_OF_ROUNDS):\n",
        "  N_SPACES = 5\n",
        "\n",
        "  # print('\\n')\n",
        "  # print('**'*N_SPACES + f' ROUND {round_of_execution} '+'**'*N_SPACES)\n",
        "  # print('\\n')\n",
        "\n",
        "  final_output_json[f'ROUND {round_of_execution}'] = {}\n",
        "  dict_floor_queues = create_airplanes_floor(dict_floor_queues=dict_floor_queues, dict_available_spaces=dict_available_spaces)\n",
        "  open_image(dict_name=all_dicts_names[0], dictionary=dict_floor_queues, list_imgs=queues_imgs, show_image=show_image)\n",
        "  output_generator(final_output_json=final_output_json, key='CURRENT TIME', dict_name=all_dicts_names[0], dictionary=dict_floor_queues,\\\n",
        "                   all_df=all_df, round_of_execution=round_of_execution)\n",
        "  sleep(SLEEP_TIME)\n",
        "  output.clear()\n",
        "\n",
        "  dict_runways = enter_runway(dict_runways=dict_runways, dict_floor_queues=dict_floor_queues,\\\n",
        "                              dict_runway_to_queue=dict_runway_to_queue, dict_available_spaces=dict_available_spaces)\n",
        "  open_image(dict_name=all_dicts_names[1], dictionary=dict_runways, list_imgs=runways_imgs, show_image=show_image)\n",
        "  output_generator(final_output_json=final_output_json, key='CURRENT TIME', dict_name=all_dicts_names[1], dictionary=dict_runways,\\\n",
        "                   all_df=all_df, round_of_execution=round_of_execution)\n",
        "  sleep(SLEEP_TIME)\n",
        "  output.clear()\n",
        "  \n",
        "\n",
        "  dict_airplanes_to_take_off = takeoff(dict_runways=dict_runways, dict_runway_to_queue=dict_runway_to_queue)\n",
        "  open_image(dict_name=all_dicts_names[2], dictionary=dict_airplanes_to_take_off, list_imgs=taking_off_imgs,show_image=show_image)\n",
        "  output_generator(final_output_json=final_output_json, key=f'ROUND {round_of_execution}', dict_name=all_dicts_names[2], \\\n",
        "                   dictionary=dict_airplanes_to_take_off, all_df=all_df, round_of_execution=round_of_execution)\n",
        "  sleep(SLEEP_TIME)\n",
        "  output.clear()\n",
        "\n",
        "  dict_sky_queues = create_airplanes_sky(dict_sky_queues=dict_sky_queues, dict_available_spaces=dict_available_spaces)\n",
        "  open_image(dict_name=all_dicts_names[3], dictionary=dict_sky_queues, list_imgs=queues_imgs, show_image=show_image)\n",
        "  output_generator(final_output_json=final_output_json, key='CURRENT TIME', dict_name=all_dicts_names[3], dictionary=dict_sky_queues, \\\n",
        "                   all_df=all_df, round_of_execution=round_of_execution)\n",
        "  sleep(SLEEP_TIME)\n",
        "  output.clear()\n",
        "\n",
        "  dict_crashed_airplanes, dict_airplanes_emergency_landings, dict_airplanes_normal_landings =landing(dict_sky_queues=dict_sky_queues, dict_runways=dict_runways,\\\n",
        "                                 dict_runway_to_queue=dict_runway_to_queue, dict_queue_to_runway=dict_queue_to_runway,\\\n",
        "                                 emergency_landings=emergency_landings, airplane_crash=airplane_crash)\n",
        "  \n",
        "  final_output_json['CURRENT TIME']['CRASHED AIRPLANES'] = dict_crashed_airplanes\n",
        "\n",
        "  open_image(dict_name=all_dicts_names[4], dictionary=dict_crashed_airplanes, list_imgs=crashed_airplanes_imgs, show_image=show_image)\n",
        "  output_generator(final_output_json=final_output_json, key=f'ROUND {round_of_execution}', dict_name=all_dicts_names[4], \\\n",
        "                   dictionary=dict_crashed_airplanes, all_df=all_df, round_of_execution=round_of_execution)\n",
        "  sleep(SLEEP_TIME)\n",
        "  output.clear() \n",
        "   \n",
        "\n",
        "  open_image(dict_name=all_dicts_names[5], dictionary=dict_airplanes_emergency_landings, list_imgs=emergency_landings_imgs, show_image=show_image)\n",
        "  output_generator(final_output_json=final_output_json, key=f'ROUND {round_of_execution}', dict_name=all_dicts_names[5], \\\n",
        "                   dictionary=dict_airplanes_emergency_landings, all_df=all_df, round_of_execution=round_of_execution)\n",
        "  sleep(SLEEP_TIME)\n",
        "  output.clear() \n",
        "  \n",
        "  open_image(dict_name=all_dicts_names[6], dictionary=dict_airplanes_normal_landings, list_imgs=landings_imgs, show_image=show_image)\n",
        "  output_generator(final_output_json=final_output_json, key=f'ROUND {round_of_execution}', dict_name=all_dicts_names[6], \\\n",
        "                   dictionary=dict_airplanes_normal_landings, all_df=all_df, round_of_execution=round_of_execution)\n",
        "  sleep(SLEEP_TIME)\n",
        "  output.clear() \n",
        "  \n",
        "  #sleep(5)\n",
        "\n",
        "if (save_outputs==True):\n",
        "  #saving DataFrame on .xlsx\n",
        "  final_df = pd.concat(all_df)\n",
        "  final_df = final_df.reset_index()\n",
        "  final_df.drop([\"index\"], axis=1, inplace=True)\n",
        "  exec_moment = moment_of_execution.replace(':','-').replace(' ','-')\n",
        "  final_df.to_excel(f'AYA_Airport_Output_{exec_moment}.xlsx')\n",
        "\n",
        "  #saving the data on .json\n",
        "  with open(f'AYA_Airport_Output_{exec_moment}.json','a') as file:\n",
        "    file.write(str(final_output_json))\n",
        "\n",
        "  #saving the data on .json\n",
        "  with open(f'AYA_Airport_Output_{exec_moment}.txt','a') as file:\n",
        "    file.write(f'Number of rounds: {NUMBER_OF_ROUNDS}')\n",
        "    file.write(f'\\nTotal of airplane crashed: {airplane_crash}')"
      ],
      "metadata": {
        "id": "G0Bx6yk_pOp1"
      },
      "execution_count": null,
      "outputs": []
    }
  ],
  "metadata": {
    "colab": {
      "collapsed_sections": [],
      "provenance": []
    },
    "kernelspec": {
      "display_name": "Python 3",
      "name": "python3"
    },
    "language_info": {
      "name": "python"
    }
  },
  "nbformat": 4,
  "nbformat_minor": 0
}